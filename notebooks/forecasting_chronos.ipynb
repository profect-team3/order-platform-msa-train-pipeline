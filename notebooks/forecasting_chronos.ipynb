{
 "cells": [
  {
   "cell_type": "markdown",
   "metadata": {
    "id": "0Dk7Qn0hcoGe"
   },
   "source": [
    "# Forecasting with Chronos\n",
    "\n",
    "[![Open In Colab](https://colab.research.google.com/assets/colab-badge.svg)](https://colab.research.google.com/github/autogluon/autogluon/blob/stable/docs/tutorials/timeseries/forecasting-chronos.ipynb)\n",
    "[![Open In SageMaker Studio Lab](https://studiolab.sagemaker.aws/studiolab.svg)](https://studiolab.sagemaker.aws/import/github/autogluon/autogluon/blob/stable/docs/tutorials/timeseries/forecasting-chronos.ipynb)\n",
    "\n",
    "\n",
    "AutoGluon-TimeSeries (AG-TS) includes [Chronos](https://github.com/amazon-science/chronos-forecasting) family of forecasting models. Chronos models are pretrained on a large collection of real & synthetic time series data, which enables them to make accurate forecasts on new data out of the box.\n",
    "\n",
    "AG-TS provides a robust and easy way to use Chronos through the familiar `TimeSeriesPredictor` API. This tutorial describes how to\n",
    "- Use Chronos models in **zero-shot** mode to make forecasts without any dataset-specific training\n",
    "- **Fine-tune** Chronos models on custom data to improve the accuracy\n",
    "- Handle **covariates & static features** by combining Chronos with a tabular regression model\n",
    "\n",
    ":::{note}\n",
    "\n",
    "**New in v1.2:** AutoGluon now features Chronos-Bolt⚡️ — new, more accurate, and up to 250x faster Chronos models.\n",
    "\n",
    ":::"
   ]
  },
  {
   "cell_type": "code",
   "execution_count": 1,
   "metadata": {
    "ExecuteTime": {
     "end_time": "2025-09-05T08:09:31.211917Z",
     "start_time": "2025-09-05T08:09:31.209102Z"
    },
    "id": "JtkW3W3FcoGf",
    "tags": [
     "remove-cell",
     "skip-execution"
    ]
   },
   "outputs": [],
   "source": [
    "# # We use uv for faster installation\n",
    "# !pip install uv\n",
    "# !uv pip install -q autogluon.timeseries --system\n",
    "# !uv pip uninstall -q torchaudio torchvision torchtext --system # fix incompatible package versions on Colab"
   ]
  },
  {
   "cell_type": "markdown",
   "metadata": {
    "id": "yBG60C4lcoGg"
   },
   "source": [
    "## Getting started with Chronos\n",
    "\n",
    "Being a pretrained model for zero-shot forecasting, Chronos is different from other models available in AG-TS.\n",
    "Specifically, Chronos models do not really `fit` time series data. However, when `predict` is called, they carry out a relatively more expensive computation that scales linearly with the number of time series in the dataset. In this aspect, they behave like local statistical models such as ETS or ARIMA, where all computation happens during inference.\n",
    "\n",
    "AutoGluon supports both the original Chronos models (e.g., [`chronos-t5-large`](https://huggingface.co/autogluon/chronos-t5-large)), as well as the new, more accurate and up to 250x faster Chronos-Bolt⚡ models (e.g., [`chronos-bolt-base`](https://huggingface.co/autogluon/chronos-bolt-base)).\n",
    "\n",
    "The easiest way to get started with Chronos is through the model-specific presets.\n",
    "\n",
    "- **(recommended)** The new, fast Chronos-Bolt️ models can be accessed using the `\"bolt_tiny\"`, `\"bolt_mini\"`, `\"bolt_small\"` and `\"bolt_base\"` presets.\n",
    "- The original Chronos models can be accessed using the `\"chronos_tiny\"`, `\"chronos_mini\"`, `\"chronos_small\"`, `\"chronos_base\"` and `\"chronos_large\"` presets.\n",
    "\n",
    "Note that the original Chronos models of size `small` and above require a GPU to run, while all Chronos-Bolt models can be run both on a CPU and a GPU.\n",
    "\n",
    "Alternatively, Chronos can be combined with other time series models using presets `\"medium_quality\"`, `\"high_quality\"` and `\"best_quality\"`. More details about these presets are available in the documentation for [`TimeSeriesPredictor.fit`](https://auto.gluon.ai/stable/api/autogluon.timeseries.TimeSeriesPredictor.fit.html)."
   ]
  },
  {
   "cell_type": "markdown",
   "metadata": {
    "id": "qOCRWUHDcoGg"
   },
   "source": [
    "## Zero-shot forecasting"
   ]
  },
  {
   "cell_type": "markdown",
   "metadata": {
    "id": "QmJxJ4fScoGg"
   },
   "source": [
    "Let's work with a subset of the [Australian Electricity Demand dataset](https://zenodo.org/records/4659727) to see Chronos-Bolt in action.\n",
    "\n",
    "First, we load the dataset as a [TimeSeriesDataFrame](https://auto.gluon.ai/stable/api/autogluon.timeseries.TimeSeriesDataFrame.html)."
   ]
  },
  {
   "cell_type": "code",
   "execution_count": 2,
   "metadata": {
    "ExecuteTime": {
     "end_time": "2025-09-05T08:09:32.836303Z",
     "start_time": "2025-09-05T08:09:31.370222Z"
    },
    "id": "u3TsdfIicoGg"
   },
   "outputs": [],
   "source": [
    "from autogluon.timeseries import TimeSeriesDataFrame, TimeSeriesPredictor"
   ]
  },
  {
   "cell_type": "code",
   "execution_count": 20,
   "metadata": {
    "ExecuteTime": {
     "end_time": "2025-09-05T08:12:18.070272Z",
     "start_time": "2025-09-05T08:12:17.113926Z"
    }
   },
   "outputs": [
    {
     "data": {
      "text/html": [
       "<div>\n",
       "<style scoped>\n",
       "    .dataframe tbody tr th:only-of-type {\n",
       "        vertical-align: middle;\n",
       "    }\n",
       "\n",
       "    .dataframe tbody tr th {\n",
       "        vertical-align: top;\n",
       "    }\n",
       "\n",
       "    .dataframe thead th {\n",
       "        text-align: right;\n",
       "    }\n",
       "</style>\n",
       "<table border=\"1\" class=\"dataframe\">\n",
       "  <thead>\n",
       "    <tr style=\"text-align: right;\">\n",
       "      <th></th>\n",
       "      <th></th>\n",
       "      <th>category</th>\n",
       "      <th>region</th>\n",
       "      <th>target</th>\n",
       "      <th>sales_amount</th>\n",
       "      <th>day_of_week</th>\n",
       "      <th>hour</th>\n",
       "      <th>min_order_amount</th>\n",
       "      <th>avg_rating</th>\n",
       "      <th>receipt_delivery_ratio</th>\n",
       "      <th>receipt_take_out_ratio</th>\n",
       "      <th>payment_simple_pay_ratio</th>\n",
       "      <th>payment_credit_card_ratio</th>\n",
       "    </tr>\n",
       "    <tr>\n",
       "      <th>item_id</th>\n",
       "      <th>timestamp</th>\n",
       "      <th></th>\n",
       "      <th></th>\n",
       "      <th></th>\n",
       "      <th></th>\n",
       "      <th></th>\n",
       "      <th></th>\n",
       "      <th></th>\n",
       "      <th></th>\n",
       "      <th></th>\n",
       "      <th></th>\n",
       "      <th></th>\n",
       "      <th></th>\n",
       "    </tr>\n",
       "  </thead>\n",
       "  <tbody>\n",
       "    <tr>\n",
       "      <th rowspan=\"5\" valign=\"top\">store_001</th>\n",
       "      <th>2022-01-01 00:00:00</th>\n",
       "      <td>디저트/케이크/생크림케이크</td>\n",
       "      <td>광진구</td>\n",
       "      <td>15</td>\n",
       "      <td>30008</td>\n",
       "      <td>5</td>\n",
       "      <td>0</td>\n",
       "      <td>1844</td>\n",
       "      <td>4.72</td>\n",
       "      <td>0.697917</td>\n",
       "      <td>0.251381</td>\n",
       "      <td>0.474390</td>\n",
       "      <td>0.493686</td>\n",
       "    </tr>\n",
       "    <tr>\n",
       "      <th>2022-01-01 01:00:00</th>\n",
       "      <td>디저트/케이크/생크림케이크</td>\n",
       "      <td>광진구</td>\n",
       "      <td>11</td>\n",
       "      <td>22542</td>\n",
       "      <td>5</td>\n",
       "      <td>1</td>\n",
       "      <td>1844</td>\n",
       "      <td>4.74</td>\n",
       "      <td>0.683282</td>\n",
       "      <td>0.307185</td>\n",
       "      <td>0.508342</td>\n",
       "      <td>0.525938</td>\n",
       "    </tr>\n",
       "    <tr>\n",
       "      <th>2022-01-01 02:00:00</th>\n",
       "      <td>디저트/케이크/생크림케이크</td>\n",
       "      <td>광진구</td>\n",
       "      <td>20</td>\n",
       "      <td>53162</td>\n",
       "      <td>5</td>\n",
       "      <td>2</td>\n",
       "      <td>1844</td>\n",
       "      <td>4.68</td>\n",
       "      <td>0.664072</td>\n",
       "      <td>0.301995</td>\n",
       "      <td>0.482497</td>\n",
       "      <td>0.529876</td>\n",
       "    </tr>\n",
       "    <tr>\n",
       "      <th>2022-01-01 03:00:00</th>\n",
       "      <td>디저트/케이크/생크림케이크</td>\n",
       "      <td>광진구</td>\n",
       "      <td>1</td>\n",
       "      <td>2765</td>\n",
       "      <td>5</td>\n",
       "      <td>3</td>\n",
       "      <td>1844</td>\n",
       "      <td>4.67</td>\n",
       "      <td>0.703799</td>\n",
       "      <td>0.306939</td>\n",
       "      <td>0.552946</td>\n",
       "      <td>0.470685</td>\n",
       "    </tr>\n",
       "    <tr>\n",
       "      <th>2022-01-01 04:00:00</th>\n",
       "      <td>디저트/케이크/생크림케이크</td>\n",
       "      <td>광진구</td>\n",
       "      <td>3</td>\n",
       "      <td>5926</td>\n",
       "      <td>5</td>\n",
       "      <td>4</td>\n",
       "      <td>1844</td>\n",
       "      <td>4.67</td>\n",
       "      <td>0.721087</td>\n",
       "      <td>0.289364</td>\n",
       "      <td>0.487239</td>\n",
       "      <td>0.529048</td>\n",
       "    </tr>\n",
       "  </tbody>\n",
       "</table>\n",
       "</div>"
      ],
      "text/plain": [
       "                                     category region  target  sales_amount  \\\n",
       "item_id   timestamp                                                          \n",
       "store_001 2022-01-01 00:00:00  디저트/케이크/생크림케이크    광진구      15         30008   \n",
       "          2022-01-01 01:00:00  디저트/케이크/생크림케이크    광진구      11         22542   \n",
       "          2022-01-01 02:00:00  디저트/케이크/생크림케이크    광진구      20         53162   \n",
       "          2022-01-01 03:00:00  디저트/케이크/생크림케이크    광진구       1          2765   \n",
       "          2022-01-01 04:00:00  디저트/케이크/생크림케이크    광진구       3          5926   \n",
       "\n",
       "                               day_of_week  hour  min_order_amount  \\\n",
       "item_id   timestamp                                                  \n",
       "store_001 2022-01-01 00:00:00            5     0              1844   \n",
       "          2022-01-01 01:00:00            5     1              1844   \n",
       "          2022-01-01 02:00:00            5     2              1844   \n",
       "          2022-01-01 03:00:00            5     3              1844   \n",
       "          2022-01-01 04:00:00            5     4              1844   \n",
       "\n",
       "                               avg_rating  receipt_delivery_ratio  \\\n",
       "item_id   timestamp                                                 \n",
       "store_001 2022-01-01 00:00:00        4.72                0.697917   \n",
       "          2022-01-01 01:00:00        4.74                0.683282   \n",
       "          2022-01-01 02:00:00        4.68                0.664072   \n",
       "          2022-01-01 03:00:00        4.67                0.703799   \n",
       "          2022-01-01 04:00:00        4.67                0.721087   \n",
       "\n",
       "                               receipt_take_out_ratio  \\\n",
       "item_id   timestamp                                     \n",
       "store_001 2022-01-01 00:00:00                0.251381   \n",
       "          2022-01-01 01:00:00                0.307185   \n",
       "          2022-01-01 02:00:00                0.301995   \n",
       "          2022-01-01 03:00:00                0.306939   \n",
       "          2022-01-01 04:00:00                0.289364   \n",
       "\n",
       "                               payment_simple_pay_ratio  \\\n",
       "item_id   timestamp                                       \n",
       "store_001 2022-01-01 00:00:00                  0.474390   \n",
       "          2022-01-01 01:00:00                  0.508342   \n",
       "          2022-01-01 02:00:00                  0.482497   \n",
       "          2022-01-01 03:00:00                  0.552946   \n",
       "          2022-01-01 04:00:00                  0.487239   \n",
       "\n",
       "                               payment_credit_card_ratio  \n",
       "item_id   timestamp                                       \n",
       "store_001 2022-01-01 00:00:00                   0.493686  \n",
       "          2022-01-01 01:00:00                   0.525938  \n",
       "          2022-01-01 02:00:00                   0.529876  \n",
       "          2022-01-01 03:00:00                   0.470685  \n",
       "          2022-01-01 04:00:00                   0.529048  "
      ]
     },
     "execution_count": 20,
     "metadata": {},
     "output_type": "execute_result"
    }
   ],
   "source": [
    "import pandas as pd\n",
    "# Create TimeSeriesDataFrame\n",
    "\n",
    "# Load data\n",
    "df = pd.read_csv(\"../data/forecast_data_featured.csv\")\n",
    "\n",
    "# Optional: Sort by item_id and timestamp for optimal performance\n",
    "# (TimeSeriesDataFrame can handle both orders, but this is more efficient)\n",
    "df = df.rename(columns={\"store_id\": \"item_id\"})\n",
    "df = df.rename(columns={\"order_count\": \"target\"})\n",
    "\n",
    "df = df.sort_values([\"item_id\", \"timestamp\"])\n",
    "\n",
    "# Create TimeSeriesDataFrame\n",
    "data = TimeSeriesDataFrame.from_data_frame(df)\n",
    "data.head()"
   ]
  },
  {
   "cell_type": "markdown",
   "metadata": {
    "id": "ENT0-uEYcoGh"
   },
   "source": [
    "Next, we create the [TimeSeriesPredictor](https://auto.gluon.ai/stable/api/autogluon.timeseries.TimeSeriesPredictor.html) and select the `\"bolt_small\"` presets to use the Chronos-Bolt (Small, 48M) model in zero-shot mode."
   ]
  },
  {
   "cell_type": "code",
   "execution_count": 21,
   "metadata": {
    "ExecuteTime": {
     "end_time": "2025-09-05T08:12:19.177910Z",
     "start_time": "2025-09-05T08:12:19.062063Z"
    }
   },
   "outputs": [],
   "source": [
    "prediction_length = 48\n",
    "train_data, test_data = data.train_test_split(prediction_length)"
   ]
  },
  {
   "cell_type": "code",
   "execution_count": 22,
   "metadata": {
    "ExecuteTime": {
     "end_time": "2025-09-05T08:12:20.156168Z",
     "start_time": "2025-09-05T08:12:19.530138Z"
    },
    "id": "1ZdLepQ4coGh",
    "outputId": "703b6e7f-2b85-4d1b-c1c3-a26bf5b8de36"
   },
   "outputs": [
    {
     "name": "stderr",
     "output_type": "stream",
     "text": [
      "Beginning AutoGluon training...\n",
      "AutoGluon will save models to '/Users/coldbrew_groom/Documents/order-platform-msa-train-pipeline/notebooks/AutogluonModels/ag-20250905_081219'\n",
      "=================== System Info ===================\n",
      "AutoGluon Version:  1.4.1b20250904\n",
      "Python Version:     3.13.7\n",
      "Operating System:   Darwin\n",
      "Platform Machine:   arm64\n",
      "Platform Version:   Darwin Kernel Version 24.5.0: Tue Apr 22 19:54:33 PDT 2025; root:xnu-11417.121.6~2/RELEASE_ARM64_T8122\n",
      "CPU Count:          8\n",
      "GPU Count:          1\n",
      "Memory Avail:       3.07 GB / 16.00 GB (19.2%)\n",
      "Disk Space Avail:   285.13 GB / 460.43 GB (61.9%)\n",
      "===================================================\n",
      "Setting presets to: bolt_base\n",
      "\n",
      "Fitting with arguments:\n",
      "{'enable_ensemble': True,\n",
      " 'eval_metric': WQL,\n",
      " 'hyperparameters': {'Chronos': {'model_path': 'bolt_base'}},\n",
      " 'known_covariates_names': [],\n",
      " 'num_val_windows': 1,\n",
      " 'prediction_length': 48,\n",
      " 'quantile_levels': [0.1, 0.2, 0.3, 0.4, 0.5, 0.6, 0.7, 0.8, 0.9],\n",
      " 'random_seed': 123,\n",
      " 'refit_every_n_windows': 1,\n",
      " 'refit_full': False,\n",
      " 'skip_model_selection': True,\n",
      " 'target': 'target',\n",
      " 'verbosity': 2}\n",
      "\n",
      "Inferred time series frequency: 'h'\n",
      "Provided train_data has 786960 rows, 30 time series. Median time series length is 26232 (min=26232, max=26232). \n",
      "\n",
      "Provided data contains following columns:\n",
      "\ttarget: 'target'\n",
      "\tpast_covariates:\n",
      "\t\tcategorical:        ['category', 'region']\n",
      "\t\tcontinuous (float): ['sales_amount', 'day_of_week', 'hour', 'min_order_amount', 'avg_rating', 'receipt_delivery_ratio', ...]\n",
      "\n",
      "To learn how to fix incorrectly inferred types, please see documentation for TimeSeriesPredictor.fit\n",
      "\n",
      "AutoGluon will gauge predictive performance using evaluation metric: 'WQL'\n",
      "\tThis metric's sign has been flipped to adhere to being higher_is_better. The metric score can be multiplied by -1 to get the metric value.\n",
      "===================================================\n",
      "\n",
      "Starting training. Start time is 2025-09-05 17:12:20\n",
      "Models that will be trained: ['Chronos[bolt_base]']\n",
      "Training timeseries model Chronos[bolt_base]. \n",
      "\t0.01    s     = Training runtime\n",
      "Training complete. Models trained: ['Chronos[bolt_base]']\n",
      "Total runtime: 0.04 s\n",
      "Best model: Chronos[bolt_base]\n"
     ]
    }
   ],
   "source": [
    "predictor = TimeSeriesPredictor(prediction_length=prediction_length).fit(\n",
    "    train_data,\n",
    "    presets=\"bolt_base\",\n",
    ")"
   ]
  },
  {
   "cell_type": "markdown",
   "metadata": {
    "id": "SNxbjEVbcoGh"
   },
   "source": [
    "As promised, Chronos does not take any time to `fit`. The `fit` call merely serves as a proxy for the `TimeSeriesPredictor` to do some of its chores under the hood, such as inferring the frequency of time series and saving the predictor's state to disk.\n",
    "\n",
    "Let's use the `predict` method to generate forecasts, and the `plot` method to visualize them."
   ]
  },
  {
   "cell_type": "code",
   "execution_count": 23,
   "metadata": {
    "ExecuteTime": {
     "end_time": "2025-09-05T08:12:57.542273Z",
     "start_time": "2025-09-05T08:12:23.201651Z"
    },
    "id": "ikntpV14coGh",
    "outputId": "068458ec-759d-4f83-89be-51c43da479b2"
   },
   "outputs": [
    {
     "name": "stderr",
     "output_type": "stream",
     "text": [
      "Model not specified in predict, will default to the model with the best validation score: Chronos[bolt_base]\n"
     ]
    },
    {
     "data": {
      "application/vnd.jupyter.widget-view+json": {
       "model_id": "0b099c271fb842df99d6b78269f4312e",
       "version_major": 2,
       "version_minor": 0
      },
      "text/plain": [
       "config.json: 0.00B [00:00, ?B/s]"
      ]
     },
     "metadata": {},
     "output_type": "display_data"
    },
    {
     "data": {
      "application/vnd.jupyter.widget-view+json": {
       "model_id": "dfb47e862514459289511bd7bee3b4e1",
       "version_major": 2,
       "version_minor": 0
      },
      "text/plain": [
       "model.safetensors:   0%|          | 0.00/821M [00:00<?, ?B/s]"
      ]
     },
     "metadata": {},
     "output_type": "display_data"
    }
   ],
   "source": [
    "predictions = predictor.predict(\n",
    "    train_data,\n",
    ")\n",
    "predictor.plot(\n",
    "    data=data,\n",
    "    predictions=predictions,\n",
    "    # item_ids=data.item_ids[:2],\n",
    "    item_ids=data.item_ids,\n",
    "    max_history_length=200,\n",
    ");"
   ]
  },
  {
   "cell_type": "markdown",
   "metadata": {
    "id": "byYnE6uhcoGh"
   },
   "source": [
    "## Fine-tuning\n",
    "\n",
    "We have seen above how Chronos models can produce forecasts in zero-shot mode. AutoGluon also makes it easy to fine-tune Chronos models on a specific dataset to maximize the predictive accuracy.\n",
    "\n",
    "The following snippet specifies two settings for the Chronos-Bolt ️(Small) model: zero-shot and fine-tuned. `TimeSeriesPredictor` will perform a lightweight fine-tuning of the pretrained model on the provided training data. We add name suffixes to easily identify the zero-shot and fine-tuned versions of the model."
   ]
  },
  {
   "cell_type": "code",
   "execution_count": 24,
   "metadata": {
    "ExecuteTime": {
     "end_time": "2025-09-05T08:13:01.454754Z",
     "start_time": "2025-09-05T08:13:00.525606Z"
    }
   },
   "outputs": [
    {
     "data": {
      "text/html": [
       "<div>\n",
       "<style scoped>\n",
       "    .dataframe tbody tr th:only-of-type {\n",
       "        vertical-align: middle;\n",
       "    }\n",
       "\n",
       "    .dataframe tbody tr th {\n",
       "        vertical-align: top;\n",
       "    }\n",
       "\n",
       "    .dataframe thead th {\n",
       "        text-align: right;\n",
       "    }\n",
       "</style>\n",
       "<table border=\"1\" class=\"dataframe\">\n",
       "  <thead>\n",
       "    <tr style=\"text-align: right;\">\n",
       "      <th></th>\n",
       "      <th></th>\n",
       "      <th>category</th>\n",
       "      <th>region</th>\n",
       "      <th>target</th>\n",
       "      <th>sales_amount</th>\n",
       "      <th>day_of_week</th>\n",
       "      <th>hour</th>\n",
       "      <th>min_order_amount</th>\n",
       "      <th>avg_rating</th>\n",
       "      <th>receipt_delivery_ratio</th>\n",
       "      <th>receipt_take_out_ratio</th>\n",
       "      <th>payment_simple_pay_ratio</th>\n",
       "      <th>payment_credit_card_ratio</th>\n",
       "    </tr>\n",
       "    <tr>\n",
       "      <th>item_id</th>\n",
       "      <th>timestamp</th>\n",
       "      <th></th>\n",
       "      <th></th>\n",
       "      <th></th>\n",
       "      <th></th>\n",
       "      <th></th>\n",
       "      <th></th>\n",
       "      <th></th>\n",
       "      <th></th>\n",
       "      <th></th>\n",
       "      <th></th>\n",
       "      <th></th>\n",
       "      <th></th>\n",
       "    </tr>\n",
       "  </thead>\n",
       "  <tbody>\n",
       "    <tr>\n",
       "      <th rowspan=\"5\" valign=\"top\">store_001</th>\n",
       "      <th>2022-01-01 00:00:00</th>\n",
       "      <td>디저트/케이크/생크림케이크</td>\n",
       "      <td>광진구</td>\n",
       "      <td>15</td>\n",
       "      <td>30008</td>\n",
       "      <td>5</td>\n",
       "      <td>0</td>\n",
       "      <td>1844</td>\n",
       "      <td>4.72</td>\n",
       "      <td>0.697917</td>\n",
       "      <td>0.251381</td>\n",
       "      <td>0.474390</td>\n",
       "      <td>0.493686</td>\n",
       "    </tr>\n",
       "    <tr>\n",
       "      <th>2022-01-01 01:00:00</th>\n",
       "      <td>디저트/케이크/생크림케이크</td>\n",
       "      <td>광진구</td>\n",
       "      <td>11</td>\n",
       "      <td>22542</td>\n",
       "      <td>5</td>\n",
       "      <td>1</td>\n",
       "      <td>1844</td>\n",
       "      <td>4.74</td>\n",
       "      <td>0.683282</td>\n",
       "      <td>0.307185</td>\n",
       "      <td>0.508342</td>\n",
       "      <td>0.525938</td>\n",
       "    </tr>\n",
       "    <tr>\n",
       "      <th>2022-01-01 02:00:00</th>\n",
       "      <td>디저트/케이크/생크림케이크</td>\n",
       "      <td>광진구</td>\n",
       "      <td>20</td>\n",
       "      <td>53162</td>\n",
       "      <td>5</td>\n",
       "      <td>2</td>\n",
       "      <td>1844</td>\n",
       "      <td>4.68</td>\n",
       "      <td>0.664072</td>\n",
       "      <td>0.301995</td>\n",
       "      <td>0.482497</td>\n",
       "      <td>0.529876</td>\n",
       "    </tr>\n",
       "    <tr>\n",
       "      <th>2022-01-01 03:00:00</th>\n",
       "      <td>디저트/케이크/생크림케이크</td>\n",
       "      <td>광진구</td>\n",
       "      <td>1</td>\n",
       "      <td>2765</td>\n",
       "      <td>5</td>\n",
       "      <td>3</td>\n",
       "      <td>1844</td>\n",
       "      <td>4.67</td>\n",
       "      <td>0.703799</td>\n",
       "      <td>0.306939</td>\n",
       "      <td>0.552946</td>\n",
       "      <td>0.470685</td>\n",
       "    </tr>\n",
       "    <tr>\n",
       "      <th>2022-01-01 04:00:00</th>\n",
       "      <td>디저트/케이크/생크림케이크</td>\n",
       "      <td>광진구</td>\n",
       "      <td>3</td>\n",
       "      <td>5926</td>\n",
       "      <td>5</td>\n",
       "      <td>4</td>\n",
       "      <td>1844</td>\n",
       "      <td>4.67</td>\n",
       "      <td>0.721087</td>\n",
       "      <td>0.289364</td>\n",
       "      <td>0.487239</td>\n",
       "      <td>0.529048</td>\n",
       "    </tr>\n",
       "  </tbody>\n",
       "</table>\n",
       "</div>"
      ],
      "text/plain": [
       "                                     category region  target  sales_amount  \\\n",
       "item_id   timestamp                                                          \n",
       "store_001 2022-01-01 00:00:00  디저트/케이크/생크림케이크    광진구      15         30008   \n",
       "          2022-01-01 01:00:00  디저트/케이크/생크림케이크    광진구      11         22542   \n",
       "          2022-01-01 02:00:00  디저트/케이크/생크림케이크    광진구      20         53162   \n",
       "          2022-01-01 03:00:00  디저트/케이크/생크림케이크    광진구       1          2765   \n",
       "          2022-01-01 04:00:00  디저트/케이크/생크림케이크    광진구       3          5926   \n",
       "\n",
       "                               day_of_week  hour  min_order_amount  \\\n",
       "item_id   timestamp                                                  \n",
       "store_001 2022-01-01 00:00:00            5     0              1844   \n",
       "          2022-01-01 01:00:00            5     1              1844   \n",
       "          2022-01-01 02:00:00            5     2              1844   \n",
       "          2022-01-01 03:00:00            5     3              1844   \n",
       "          2022-01-01 04:00:00            5     4              1844   \n",
       "\n",
       "                               avg_rating  receipt_delivery_ratio  \\\n",
       "item_id   timestamp                                                 \n",
       "store_001 2022-01-01 00:00:00        4.72                0.697917   \n",
       "          2022-01-01 01:00:00        4.74                0.683282   \n",
       "          2022-01-01 02:00:00        4.68                0.664072   \n",
       "          2022-01-01 03:00:00        4.67                0.703799   \n",
       "          2022-01-01 04:00:00        4.67                0.721087   \n",
       "\n",
       "                               receipt_take_out_ratio  \\\n",
       "item_id   timestamp                                     \n",
       "store_001 2022-01-01 00:00:00                0.251381   \n",
       "          2022-01-01 01:00:00                0.307185   \n",
       "          2022-01-01 02:00:00                0.301995   \n",
       "          2022-01-01 03:00:00                0.306939   \n",
       "          2022-01-01 04:00:00                0.289364   \n",
       "\n",
       "                               payment_simple_pay_ratio  \\\n",
       "item_id   timestamp                                       \n",
       "store_001 2022-01-01 00:00:00                  0.474390   \n",
       "          2022-01-01 01:00:00                  0.508342   \n",
       "          2022-01-01 02:00:00                  0.482497   \n",
       "          2022-01-01 03:00:00                  0.552946   \n",
       "          2022-01-01 04:00:00                  0.487239   \n",
       "\n",
       "                               payment_credit_card_ratio  \n",
       "item_id   timestamp                                       \n",
       "store_001 2022-01-01 00:00:00                   0.493686  \n",
       "          2022-01-01 01:00:00                   0.525938  \n",
       "          2022-01-01 02:00:00                   0.529876  \n",
       "          2022-01-01 03:00:00                   0.470685  \n",
       "          2022-01-01 04:00:00                   0.529048  "
      ]
     },
     "execution_count": 24,
     "metadata": {},
     "output_type": "execute_result"
    }
   ],
   "source": [
    "import pandas as pd\n",
    "\n",
    "# Create TimeSeriesDataFrame\n",
    "import pandas as pd\n",
    "\n",
    "# Load data\n",
    "df = pd.read_csv(\"../data/forecast_data_featured.csv\")\n",
    "\n",
    "df = df.rename(columns={\"store_id\": \"item_id\"})\n",
    "df = df.rename(columns={\"order_count\": \"target\"})\n",
    "\n",
    "df = df.sort_values([\"item_id\", \"timestamp\"])\n",
    "\n",
    "# Create TimeSeriesDataFrame\n",
    "data = TimeSeriesDataFrame.from_data_frame(df)\n",
    "data.head()"
   ]
  },
  {
   "cell_type": "code",
   "execution_count": 27,
   "metadata": {
    "ExecuteTime": {
     "end_time": "2025-09-05T08:15:46.276640Z",
     "start_time": "2025-09-05T08:14:52.847115Z"
    },
    "id": "SSjTbUKRcoGh",
    "outputId": "331b2ee2-62c1-4056-9d9b-1e5594b83c1a"
   },
   "outputs": [
    {
     "name": "stderr",
     "output_type": "stream",
     "text": [
      "Beginning AutoGluon training... Time limit = 60s\n",
      "AutoGluon will save models to '/Users/coldbrew_groom/Documents/order-platform-msa-train-pipeline/notebooks/AutogluonModels/ag-20250905_081452'\n",
      "=================== System Info ===================\n",
      "AutoGluon Version:  1.4.1b20250904\n",
      "Python Version:     3.13.7\n",
      "Operating System:   Darwin\n",
      "Platform Machine:   arm64\n",
      "Platform Version:   Darwin Kernel Version 24.5.0: Tue Apr 22 19:54:33 PDT 2025; root:xnu-11417.121.6~2/RELEASE_ARM64_T8122\n",
      "CPU Count:          8\n",
      "GPU Count:          1\n",
      "Memory Avail:       3.82 GB / 16.00 GB (23.9%)\n",
      "Disk Space Avail:   283.05 GB / 460.43 GB (61.5%)\n",
      "===================================================\n",
      "\n",
      "Fitting with arguments:\n",
      "{'enable_ensemble': False,\n",
      " 'eval_metric': WQL,\n",
      " 'hyperparameters': {'Chronos': [{'ag_args': {'name_suffix': 'ZeroShot'},\n",
      "                                  'model_path': 'bolt_small'},\n",
      "                                 {'ag_args': {'name_suffix': 'FineTuned'},\n",
      "                                  'fine_tune': True,\n",
      "                                  'model_path': 'bolt_base'}]},\n",
      " 'known_covariates_names': [],\n",
      " 'num_val_windows': 1,\n",
      " 'prediction_length': 48,\n",
      " 'quantile_levels': [0.1, 0.2, 0.3, 0.4, 0.5, 0.6, 0.7, 0.8, 0.9],\n",
      " 'random_seed': 123,\n",
      " 'refit_every_n_windows': 1,\n",
      " 'refit_full': False,\n",
      " 'skip_model_selection': False,\n",
      " 'target': 'target',\n",
      " 'time_limit': 60,\n",
      " 'verbosity': 2}\n",
      "\n",
      "Inferred time series frequency: 'h'\n",
      "Provided train_data has 786960 rows, 30 time series. Median time series length is 26232 (min=26232, max=26232). \n",
      "\n",
      "Provided data contains following columns:\n",
      "\ttarget: 'target'\n",
      "\tpast_covariates:\n",
      "\t\tcategorical:        ['category', 'region']\n",
      "\t\tcontinuous (float): ['sales_amount', 'day_of_week', 'hour', 'min_order_amount', 'avg_rating', 'receipt_delivery_ratio', ...]\n",
      "\n",
      "To learn how to fix incorrectly inferred types, please see documentation for TimeSeriesPredictor.fit\n",
      "\n",
      "AutoGluon will gauge predictive performance using evaluation metric: 'WQL'\n",
      "\tThis metric's sign has been flipped to adhere to being higher_is_better. The metric score can be multiplied by -1 to get the metric value.\n",
      "===================================================\n",
      "\n",
      "Starting training. Start time is 2025-09-05 17:14:53\n",
      "Models that will be trained: ['ChronosZeroShot[bolt_small]', 'ChronosFineTuned[bolt_base]']\n",
      "Training timeseries model ChronosZeroShot[bolt_small]. Training for up to 29.9s of the 59.8s of remaining time.\n",
      "\t-0.2863       = Validation score (-WQL)\n",
      "\t0.10    s     = Training runtime\n",
      "\t1.85    s     = Validation (prediction) runtime\n",
      "Training timeseries model ChronosFineTuned[bolt_base]. Training for up to 57.8s of the 57.8s of remaining time.\n",
      "\tFine-tuning on the CPU detected. We recommend using a GPU for faster fine-tuning of Chronos.\n",
      "\tSaving fine-tuned model to /Users/coldbrew_groom/Documents/order-platform-msa-train-pipeline/notebooks/AutogluonModels/ag-20250905_081452/models/ChronosFineTuned[bolt_base]/W0/fine-tuned-ckpt\n",
      "\t-0.2653       = Validation score (-WQL)\n",
      "\t49.77   s     = Training runtime\n",
      "\t1.10    s     = Validation (prediction) runtime\n",
      "Training complete. Models trained: ['ChronosZeroShot[bolt_small]', 'ChronosFineTuned[bolt_base]']\n",
      "Total runtime: 52.87 s\n",
      "Best model: ChronosFineTuned[bolt_base]\n",
      "Best model score: -0.2653\n"
     ]
    }
   ],
   "source": [
    "predictor = TimeSeriesPredictor(prediction_length=prediction_length).fit(\n",
    "    train_data=train_data,\n",
    "    hyperparameters={\n",
    "        \"Chronos\": [\n",
    "            {\"model_path\": \"bolt_small\", \"ag_args\": {\"name_suffix\": \"ZeroShot\"}},\n",
    "            {\n",
    "                \"model_path\": \"bolt_base\",\n",
    "                \"fine_tune\": True,\n",
    "                \"ag_args\": {\"name_suffix\": \"FineTuned\"},\n",
    "            },\n",
    "        ]\n",
    "    },\n",
    "    time_limit=60,  # time limit in seconds\n",
    "    enable_ensemble=False,\n",
    ")"
   ]
  },
  {
   "cell_type": "markdown",
   "metadata": {
    "id": "yN0dt5wjcoGh"
   },
   "source": [
    "Here we used the default fine-tuning configuration for Chronos by only specifying `\"fine_tune\": True`. However, AutoGluon makes it easy to change other parameters for fine-tuning such as the number of steps or learning rate.\n",
    "```python\n",
    "predictor.fit(\n",
    "    ...,\n",
    "    hyperparameters={\"Chronos\": {\"fine_tune\": True, \"fine_tune_lr\": 1e-4, \"fine_tune_steps\": 2000}},\n",
    ")\n",
    "```\n",
    "\n",
    "For the full list of fine-tuning options, see the Chronos documentation in [Forecasting Model Zoo](forecasting-model-zoo.md#autogluon.timeseries.models.ChronosModel).\n",
    "\n",
    "\n",
    "After fitting, we can evaluate the two model variants on the test data and generate a leaderboard."
   ]
  },
  {
   "cell_type": "code",
   "execution_count": 26,
   "metadata": {
    "ExecuteTime": {
     "end_time": "2025-09-05T08:14:26.748814Z",
     "start_time": "2025-09-05T08:14:23.330608Z"
    },
    "id": "sNOIPcgfcoGh",
    "outputId": "add4347a-9fff-4480-e9ed-dc74de940e70"
   },
   "outputs": [
    {
     "name": "stderr",
     "output_type": "stream",
     "text": [
      "Additional data provided, testing on additional data. Resulting leaderboard will be sorted according to test score (`score_test`).\n"
     ]
    },
    {
     "data": {
      "text/html": [
       "<div>\n",
       "<style scoped>\n",
       "    .dataframe tbody tr th:only-of-type {\n",
       "        vertical-align: middle;\n",
       "    }\n",
       "\n",
       "    .dataframe tbody tr th {\n",
       "        vertical-align: top;\n",
       "    }\n",
       "\n",
       "    .dataframe thead th {\n",
       "        text-align: right;\n",
       "    }\n",
       "</style>\n",
       "<table border=\"1\" class=\"dataframe\">\n",
       "  <thead>\n",
       "    <tr style=\"text-align: right;\">\n",
       "      <th></th>\n",
       "      <th>model</th>\n",
       "      <th>score_test</th>\n",
       "      <th>score_val</th>\n",
       "      <th>pred_time_test</th>\n",
       "      <th>pred_time_val</th>\n",
       "      <th>fit_time_marginal</th>\n",
       "      <th>fit_order</th>\n",
       "    </tr>\n",
       "  </thead>\n",
       "  <tbody>\n",
       "    <tr>\n",
       "      <th>0</th>\n",
       "      <td>ChronosFineTuned[bolt_small]</td>\n",
       "      <td>-0.269901</td>\n",
       "      <td>-0.279656</td>\n",
       "      <td>0.914079</td>\n",
       "      <td>0.352476</td>\n",
       "      <td>48.353044</td>\n",
       "      <td>2</td>\n",
       "    </tr>\n",
       "    <tr>\n",
       "      <th>1</th>\n",
       "      <td>ChronosZeroShot[bolt_small]</td>\n",
       "      <td>-0.278969</td>\n",
       "      <td>-0.286308</td>\n",
       "      <td>1.831372</td>\n",
       "      <td>2.136817</td>\n",
       "      <td>0.094400</td>\n",
       "      <td>1</td>\n",
       "    </tr>\n",
       "  </tbody>\n",
       "</table>\n",
       "</div>"
      ],
      "text/plain": [
       "                          model  score_test  score_val  pred_time_test  \\\n",
       "0  ChronosFineTuned[bolt_small]   -0.269901  -0.279656        0.914079   \n",
       "1   ChronosZeroShot[bolt_small]   -0.278969  -0.286308        1.831372   \n",
       "\n",
       "   pred_time_val  fit_time_marginal  fit_order  \n",
       "0       0.352476          48.353044          2  \n",
       "1       2.136817           0.094400          1  "
      ]
     },
     "execution_count": 26,
     "metadata": {},
     "output_type": "execute_result"
    }
   ],
   "source": [
    "predictor.leaderboard(test_data)"
   ]
  },
  {
   "cell_type": "markdown",
   "metadata": {
    "id": "X_2yDkfHcoGi"
   },
   "source": [
    "Fine-tuning resulted in a more accurate model, as shown by the better `score_test` on the test set.\n",
    "\n",
    "Note that all AutoGluon-TimeSeries models report scores in a \"higher is better\" format, meaning that most forecasting error metrics like WQL are multiplied by -1 when reported."
   ]
  },
  {
   "cell_type": "code",
   "execution_count": 10,
   "metadata": {
    "ExecuteTime": {
     "end_time": "2025-09-05T08:10:38.937649Z",
     "start_time": "2025-09-05T08:10:37.984063Z"
    }
   },
   "outputs": [
    {
     "name": "stderr",
     "output_type": "stream",
     "text": [
      "Model not specified in predict, will default to the model with the best validation score: ChronosFineTuned[bolt_small]\n"
     ]
    }
   ],
   "source": [
    "predictions_fine_tuned = predictor.predict(train_data)\n",
    "predictor.plot(\n",
    "    data=data,\n",
    "    predictions=predictions_fine_tuned,\n",
    "    item_ids=data.item_ids,\n",
    "    max_history_length=200,\n",
    ");"
   ]
  },
  {
   "cell_type": "code",
   "execution_count": 11,
   "metadata": {
    "ExecuteTime": {
     "end_time": "2025-09-05T08:10:39.195589Z",
     "start_time": "2025-09-05T08:10:38.970621Z"
    }
   },
   "outputs": [],
   "source": [
    "predictor.plot(\n",
    "    data=data,\n",
    "    predictions=predictions_fine_tuned,\n",
    "    item_ids=data.item_ids,\n",
    "    max_history_length=200,\n",
    ");"
   ]
  },
  {
   "cell_type": "markdown",
   "metadata": {
    "id": "S6DV0drScoGi"
   },
   "source": [
    "Chronos️ is a univariate model, meaning it relies solely on the historical data of the target time series for making predictions. However, in real-world scenarios, additional exogenous information related to the target series (e.g., holidays, promotions) is often available. Leveraging this information when making predictions can improve forecast accuracy.\n",
    "\n",
    "AG-TS now features covariate regressors that can be combined with univariate models like Chronos-Bolt to incorporate exogenous information.\n",
    "A `covariate_regressor` in AG-TS is a tabular regression model that is fit on the known covariates and static features to predict the target column at the each time step. The predictions of the covariate regressor are subtracted from the target column, and the univariate model then forecasts the residuals."
   ]
  },
  {
   "cell_type": "code",
   "execution_count": 12,
   "metadata": {
    "ExecuteTime": {
     "end_time": "2025-09-05T08:10:40.147135Z",
     "start_time": "2025-09-05T08:10:39.220681Z"
    },
    "id": "lZr_-urqcoGi",
    "outputId": "9d04d79c-2221-4b2c-8a63-e624281cd1ce"
   },
   "outputs": [
    {
     "data": {
      "text/html": [
       "<div>\n",
       "<style scoped>\n",
       "    .dataframe tbody tr th:only-of-type {\n",
       "        vertical-align: middle;\n",
       "    }\n",
       "\n",
       "    .dataframe tbody tr th {\n",
       "        vertical-align: top;\n",
       "    }\n",
       "\n",
       "    .dataframe thead th {\n",
       "        text-align: right;\n",
       "    }\n",
       "</style>\n",
       "<table border=\"1\" class=\"dataframe\">\n",
       "  <thead>\n",
       "    <tr style=\"text-align: right;\">\n",
       "      <th></th>\n",
       "      <th></th>\n",
       "      <th>category</th>\n",
       "      <th>region</th>\n",
       "      <th>order_count</th>\n",
       "      <th>sales_amount</th>\n",
       "      <th>day_of_week</th>\n",
       "      <th>hour</th>\n",
       "      <th>min_order_amount</th>\n",
       "      <th>avg_rating</th>\n",
       "      <th>receipt_delivery_ratio</th>\n",
       "      <th>receipt_take_out_ratio</th>\n",
       "      <th>payment_simple_pay_ratio</th>\n",
       "      <th>payment_credit_card_ratio</th>\n",
       "    </tr>\n",
       "    <tr>\n",
       "      <th>item_id</th>\n",
       "      <th>timestamp</th>\n",
       "      <th></th>\n",
       "      <th></th>\n",
       "      <th></th>\n",
       "      <th></th>\n",
       "      <th></th>\n",
       "      <th></th>\n",
       "      <th></th>\n",
       "      <th></th>\n",
       "      <th></th>\n",
       "      <th></th>\n",
       "      <th></th>\n",
       "      <th></th>\n",
       "    </tr>\n",
       "  </thead>\n",
       "  <tbody>\n",
       "    <tr>\n",
       "      <th rowspan=\"5\" valign=\"top\">store_001</th>\n",
       "      <th>2022-01-01 00:00:00</th>\n",
       "      <td>디저트/케이크/생크림케이크</td>\n",
       "      <td>광진구</td>\n",
       "      <td>15</td>\n",
       "      <td>30008</td>\n",
       "      <td>5</td>\n",
       "      <td>0</td>\n",
       "      <td>1844</td>\n",
       "      <td>4.72</td>\n",
       "      <td>0.697917</td>\n",
       "      <td>0.251381</td>\n",
       "      <td>0.474390</td>\n",
       "      <td>0.493686</td>\n",
       "    </tr>\n",
       "    <tr>\n",
       "      <th>2022-01-01 01:00:00</th>\n",
       "      <td>디저트/케이크/생크림케이크</td>\n",
       "      <td>광진구</td>\n",
       "      <td>11</td>\n",
       "      <td>22542</td>\n",
       "      <td>5</td>\n",
       "      <td>1</td>\n",
       "      <td>1844</td>\n",
       "      <td>4.74</td>\n",
       "      <td>0.683282</td>\n",
       "      <td>0.307185</td>\n",
       "      <td>0.508342</td>\n",
       "      <td>0.525938</td>\n",
       "    </tr>\n",
       "    <tr>\n",
       "      <th>2022-01-01 02:00:00</th>\n",
       "      <td>디저트/케이크/생크림케이크</td>\n",
       "      <td>광진구</td>\n",
       "      <td>20</td>\n",
       "      <td>53162</td>\n",
       "      <td>5</td>\n",
       "      <td>2</td>\n",
       "      <td>1844</td>\n",
       "      <td>4.68</td>\n",
       "      <td>0.664072</td>\n",
       "      <td>0.301995</td>\n",
       "      <td>0.482497</td>\n",
       "      <td>0.529876</td>\n",
       "    </tr>\n",
       "    <tr>\n",
       "      <th>2022-01-01 03:00:00</th>\n",
       "      <td>디저트/케이크/생크림케이크</td>\n",
       "      <td>광진구</td>\n",
       "      <td>1</td>\n",
       "      <td>2765</td>\n",
       "      <td>5</td>\n",
       "      <td>3</td>\n",
       "      <td>1844</td>\n",
       "      <td>4.67</td>\n",
       "      <td>0.703799</td>\n",
       "      <td>0.306939</td>\n",
       "      <td>0.552946</td>\n",
       "      <td>0.470685</td>\n",
       "    </tr>\n",
       "    <tr>\n",
       "      <th>2022-01-01 04:00:00</th>\n",
       "      <td>디저트/케이크/생크림케이크</td>\n",
       "      <td>광진구</td>\n",
       "      <td>3</td>\n",
       "      <td>5926</td>\n",
       "      <td>5</td>\n",
       "      <td>4</td>\n",
       "      <td>1844</td>\n",
       "      <td>4.67</td>\n",
       "      <td>0.721087</td>\n",
       "      <td>0.289364</td>\n",
       "      <td>0.487239</td>\n",
       "      <td>0.529048</td>\n",
       "    </tr>\n",
       "  </tbody>\n",
       "</table>\n",
       "</div>"
      ],
      "text/plain": [
       "                                     category region  order_count  \\\n",
       "item_id   timestamp                                                 \n",
       "store_001 2022-01-01 00:00:00  디저트/케이크/생크림케이크    광진구           15   \n",
       "          2022-01-01 01:00:00  디저트/케이크/생크림케이크    광진구           11   \n",
       "          2022-01-01 02:00:00  디저트/케이크/생크림케이크    광진구           20   \n",
       "          2022-01-01 03:00:00  디저트/케이크/생크림케이크    광진구            1   \n",
       "          2022-01-01 04:00:00  디저트/케이크/생크림케이크    광진구            3   \n",
       "\n",
       "                               sales_amount  day_of_week  hour  \\\n",
       "item_id   timestamp                                              \n",
       "store_001 2022-01-01 00:00:00         30008            5     0   \n",
       "          2022-01-01 01:00:00         22542            5     1   \n",
       "          2022-01-01 02:00:00         53162            5     2   \n",
       "          2022-01-01 03:00:00          2765            5     3   \n",
       "          2022-01-01 04:00:00          5926            5     4   \n",
       "\n",
       "                               min_order_amount  avg_rating  \\\n",
       "item_id   timestamp                                           \n",
       "store_001 2022-01-01 00:00:00              1844        4.72   \n",
       "          2022-01-01 01:00:00              1844        4.74   \n",
       "          2022-01-01 02:00:00              1844        4.68   \n",
       "          2022-01-01 03:00:00              1844        4.67   \n",
       "          2022-01-01 04:00:00              1844        4.67   \n",
       "\n",
       "                               receipt_delivery_ratio  receipt_take_out_ratio  \\\n",
       "item_id   timestamp                                                             \n",
       "store_001 2022-01-01 00:00:00                0.697917                0.251381   \n",
       "          2022-01-01 01:00:00                0.683282                0.307185   \n",
       "          2022-01-01 02:00:00                0.664072                0.301995   \n",
       "          2022-01-01 03:00:00                0.703799                0.306939   \n",
       "          2022-01-01 04:00:00                0.721087                0.289364   \n",
       "\n",
       "                               payment_simple_pay_ratio  \\\n",
       "item_id   timestamp                                       \n",
       "store_001 2022-01-01 00:00:00                  0.474390   \n",
       "          2022-01-01 01:00:00                  0.508342   \n",
       "          2022-01-01 02:00:00                  0.482497   \n",
       "          2022-01-01 03:00:00                  0.552946   \n",
       "          2022-01-01 04:00:00                  0.487239   \n",
       "\n",
       "                               payment_credit_card_ratio  \n",
       "item_id   timestamp                                       \n",
       "store_001 2022-01-01 00:00:00                   0.493686  \n",
       "          2022-01-01 01:00:00                   0.525938  \n",
       "          2022-01-01 02:00:00                   0.529876  \n",
       "          2022-01-01 03:00:00                   0.470685  \n",
       "          2022-01-01 04:00:00                   0.529048  "
      ]
     },
     "execution_count": 12,
     "metadata": {},
     "output_type": "execute_result"
    }
   ],
   "source": [
    "import pandas as pd\n",
    "\n",
    "# Create TimeSeriesDataFrame\n",
    "import pandas as pd\n",
    "\n",
    "# Load data\n",
    "df = pd.read_csv(\"../data/forecast_data_featured.csv\")\n",
    "\n",
    "# Optional: Sort by item_id and timestamp for optimal performance\n",
    "# (TimeSeriesDataFrame can handle both orders, but this is more efficient)\n",
    "df = df.rename(columns={\"store_id\": \"item_id\"})\n",
    "df = df.sort_values([\"item_id\", \"timestamp\"])\n",
    "\n",
    "# Create TimeSeriesDataFrame\n",
    "data = TimeSeriesDataFrame.from_data_frame(df)\n",
    "data.head()"
   ]
  },
  {
   "cell_type": "markdown",
   "metadata": {
    "id": "8hdWdBJAcoGi"
   },
   "source": [
    "We use the local forecast data to demonstrate how Chronos-Bolt can be combined with a covariate regressor. This dataset includes several covariates such as `category`, `region`, `sales_amount`, `day_of_week`, `hour`, and others that can help improve forecasting accuracy for `order_count`."
   ]
  },
  {
   "cell_type": "code",
   "execution_count": 13,
   "metadata": {
    "ExecuteTime": {
     "end_time": "2025-09-05T08:10:40.230566Z",
     "start_time": "2025-09-05T08:10:40.177900Z"
    },
    "id": "GaBthWZqcoGi"
   },
   "outputs": [],
   "source": [
    "prediction_length = 48\n",
    "train_data, test_data = data.train_test_split(prediction_length=prediction_length)"
   ]
  },
  {
   "cell_type": "markdown",
   "metadata": {
    "id": "kBRDGi8JcoGi"
   },
   "source": [
    "The following code fits a TimeSeriesPredictor to forecast `order_count` for the next 48 hours.\n",
    "\n",
    "Note that we have specified the target column we are interested in forecasting and the names of known covariates while constructing the TimeSeriesPredictor.\n",
    "\n",
    "We define two configurations for Chronos-Bolt:\n",
    "- zero-shot configuration that uses only the historical values of `order_count` without considering the covariates;\n",
    "- a configuration with a CatBoost regression model as the `covariate_regressor`. Note that we recommend to apply a `target_scaler` when using a covariate regressor. Target scaler ensures that all time series have comparable scales, often leading to better accuracy.\n",
    "\n",
    "Like before, we add suffixes to model names to more easily distinguish them in the leaderboard."
   ]
  },
  {
   "cell_type": "code",
   "execution_count": 14,
   "metadata": {
    "ExecuteTime": {
     "end_time": "2025-09-05T08:10:58.920494Z",
     "start_time": "2025-09-05T08:10:40.259003Z"
    },
    "id": "LH75W9BNcoGi",
    "outputId": "9b8997ce-17ed-40da-e72d-ab3d0904fb8c"
   },
   "outputs": [
    {
     "name": "stderr",
     "output_type": "stream",
     "text": [
      "Beginning AutoGluon training... Time limit = 60s\n",
      "AutoGluon will save models to '/Users/coldbrew_groom/Documents/order-platform-msa-train-pipeline/notebooks/AutogluonModels/ag-20250905_081040'\n",
      "=================== System Info ===================\n",
      "AutoGluon Version:  1.4.1b20250904\n",
      "Python Version:     3.13.7\n",
      "Operating System:   Darwin\n",
      "Platform Machine:   arm64\n",
      "Platform Version:   Darwin Kernel Version 24.5.0: Tue Apr 22 19:54:33 PDT 2025; root:xnu-11417.121.6~2/RELEASE_ARM64_T8122\n",
      "CPU Count:          8\n",
      "GPU Count:          1\n",
      "Memory Avail:       3.96 GB / 16.00 GB (24.8%)\n",
      "Disk Space Avail:   285.19 GB / 460.43 GB (61.9%)\n",
      "===================================================\n",
      "\n",
      "Fitting with arguments:\n",
      "{'enable_ensemble': False,\n",
      " 'eval_metric': WQL,\n",
      " 'hyperparameters': {'Chronos': [{'ag_args': {'name_suffix': 'ZeroShot'},\n",
      "                                  'model_path': 'bolt_small'},\n",
      "                                 {'ag_args': {'name_suffix': 'WithRegressor'},\n",
      "                                  'covariate_regressor': 'CAT',\n",
      "                                  'model_path': 'bolt_small',\n",
      "                                  'target_scaler': 'standard'}]},\n",
      " 'known_covariates_names': ['category',\n",
      "                            'region',\n",
      "                            'day_of_week',\n",
      "                            'hour',\n",
      "                            'min_order_amount',\n",
      "                            'avg_rating'],\n",
      " 'num_val_windows': 1,\n",
      " 'prediction_length': 48,\n",
      " 'quantile_levels': [0.1, 0.2, 0.3, 0.4, 0.5, 0.6, 0.7, 0.8, 0.9],\n",
      " 'random_seed': 123,\n",
      " 'refit_every_n_windows': 1,\n",
      " 'refit_full': False,\n",
      " 'skip_model_selection': False,\n",
      " 'target': 'order_count',\n",
      " 'time_limit': 60,\n",
      " 'verbosity': 2}\n",
      "\n",
      "Inferred time series frequency: 'h'\n",
      "Provided train_data has 786960 rows, 30 time series. Median time series length is 26232 (min=26232, max=26232). \n",
      "\n",
      "Provided data contains following columns:\n",
      "\ttarget: 'order_count'\n",
      "\tknown_covariates:\n",
      "\t\tcategorical:        ['category', 'region']\n",
      "\t\tcontinuous (float): ['day_of_week', 'hour', 'min_order_amount', 'avg_rating']\n",
      "\tpast_covariates:\n",
      "\t\tcategorical:        []\n",
      "\t\tcontinuous (float): ['sales_amount', 'receipt_delivery_ratio', 'receipt_take_out_ratio', 'payment_simple_pay_ratio', 'payment_credit_card_ratio']\n",
      "\n",
      "To learn how to fix incorrectly inferred types, please see documentation for TimeSeriesPredictor.fit\n",
      "\n",
      "AutoGluon will gauge predictive performance using evaluation metric: 'WQL'\n",
      "\tThis metric's sign has been flipped to adhere to being higher_is_better. The metric score can be multiplied by -1 to get the metric value.\n",
      "===================================================\n",
      "\n",
      "Starting training. Start time is 2025-09-05 17:10:40\n",
      "Models that will be trained: ['ChronosZeroShot[bolt_small]', 'ChronosWithRegressor[bolt_small]']\n",
      "Training timeseries model ChronosZeroShot[bolt_small]. Training for up to 29.9s of the 59.7s of remaining time.\n",
      "\t-0.2863       = Validation score (-WQL)\n",
      "\t0.10    s     = Training runtime\n",
      "\t1.54    s     = Validation (prediction) runtime\n",
      "Training timeseries model ChronosWithRegressor[bolt_small]. Training for up to 58.1s of the 58.1s of remaining time.\n",
      "\t-0.2866       = Validation score (-WQL)\n",
      "\t14.71   s     = Training runtime\n",
      "\t1.63    s     = Validation (prediction) runtime\n",
      "Training complete. Models trained: ['ChronosZeroShot[bolt_small]', 'ChronosWithRegressor[bolt_small]']\n",
      "Total runtime: 18.02 s\n",
      "Best model: ChronosZeroShot[bolt_small]\n",
      "Best model score: -0.2863\n"
     ]
    }
   ],
   "source": [
    "predictor = TimeSeriesPredictor(\n",
    "    prediction_length=prediction_length,\n",
    "    target=\"order_count\",\n",
    "    known_covariates_names=[\n",
    "        \"category\",\n",
    "        \"region\",\n",
    "        \"day_of_week\",\n",
    "        \"hour\",\n",
    "        \"min_order_amount\",\n",
    "        \"avg_rating\",\n",
    "    ],\n",
    ").fit(\n",
    "    train_data,\n",
    "    hyperparameters={\n",
    "        \"Chronos\": [\n",
    "            # Zero-shot model WITHOUT covariates\n",
    "            {\n",
    "                \"model_path\": \"bolt_small\",\n",
    "                \"ag_args\": {\"name_suffix\": \"ZeroShot\"},\n",
    "            },\n",
    "            # Chronos-Bolt (Small) combined with CatBoost on covariates\n",
    "            {\n",
    "                \"model_path\": \"bolt_small\",\n",
    "                \"covariate_regressor\": \"CAT\",\n",
    "                \"target_scaler\": \"standard\",\n",
    "                \"ag_args\": {\"name_suffix\": \"WithRegressor\"},\n",
    "            },\n",
    "        ],\n",
    "    },\n",
    "    enable_ensemble=False,\n",
    "    time_limit=60,\n",
    ")"
   ]
  },
  {
   "cell_type": "markdown",
   "metadata": {
    "id": "az4Y8x79coGi"
   },
   "source": [
    "Once the predictor has been fit, we can evaluate it on the test dataset and generate the leaderboard. We see that the model that utilizes the covariates produces a more accurate forecast on the test set."
   ]
  },
  {
   "cell_type": "code",
   "execution_count": 15,
   "metadata": {
    "ExecuteTime": {
     "end_time": "2025-09-05T08:11:02.606637Z",
     "start_time": "2025-09-05T08:10:58.945087Z"
    },
    "id": "NXPsNPTdcoGi",
    "outputId": "8157455c-1c28-4469-a934-8966423ea4aa"
   },
   "outputs": [
    {
     "name": "stderr",
     "output_type": "stream",
     "text": [
      "Additional data provided, testing on additional data. Resulting leaderboard will be sorted according to test score (`score_test`).\n"
     ]
    },
    {
     "data": {
      "text/html": [
       "<div>\n",
       "<style scoped>\n",
       "    .dataframe tbody tr th:only-of-type {\n",
       "        vertical-align: middle;\n",
       "    }\n",
       "\n",
       "    .dataframe tbody tr th {\n",
       "        vertical-align: top;\n",
       "    }\n",
       "\n",
       "    .dataframe thead th {\n",
       "        text-align: right;\n",
       "    }\n",
       "</style>\n",
       "<table border=\"1\" class=\"dataframe\">\n",
       "  <thead>\n",
       "    <tr style=\"text-align: right;\">\n",
       "      <th></th>\n",
       "      <th>model</th>\n",
       "      <th>score_test</th>\n",
       "      <th>score_val</th>\n",
       "      <th>pred_time_test</th>\n",
       "      <th>pred_time_val</th>\n",
       "      <th>fit_time_marginal</th>\n",
       "      <th>fit_order</th>\n",
       "    </tr>\n",
       "  </thead>\n",
       "  <tbody>\n",
       "    <tr>\n",
       "      <th>0</th>\n",
       "      <td>ChronosWithRegressor[bolt_small]</td>\n",
       "      <td>-0.275016</td>\n",
       "      <td>-0.286578</td>\n",
       "      <td>1.637981</td>\n",
       "      <td>1.633966</td>\n",
       "      <td>14.708742</td>\n",
       "      <td>2</td>\n",
       "    </tr>\n",
       "    <tr>\n",
       "      <th>1</th>\n",
       "      <td>ChronosZeroShot[bolt_small]</td>\n",
       "      <td>-0.278969</td>\n",
       "      <td>-0.286308</td>\n",
       "      <td>1.406951</td>\n",
       "      <td>1.538757</td>\n",
       "      <td>0.100485</td>\n",
       "      <td>1</td>\n",
       "    </tr>\n",
       "  </tbody>\n",
       "</table>\n",
       "</div>"
      ],
      "text/plain": [
       "                              model  score_test  score_val  pred_time_test  \\\n",
       "0  ChronosWithRegressor[bolt_small]   -0.275016  -0.286578        1.637981   \n",
       "1       ChronosZeroShot[bolt_small]   -0.278969  -0.286308        1.406951   \n",
       "\n",
       "   pred_time_val  fit_time_marginal  fit_order  \n",
       "0       1.633966          14.708742          2  \n",
       "1       1.538757           0.100485          1  "
      ]
     },
     "execution_count": 15,
     "metadata": {},
     "output_type": "execute_result"
    }
   ],
   "source": [
    "predictor.leaderboard(test_data)"
   ]
  },
  {
   "cell_type": "code",
   "execution_count": 16,
   "metadata": {
    "ExecuteTime": {
     "end_time": "2025-09-05T08:11:03.100523Z",
     "start_time": "2025-09-05T08:11:02.641608Z"
    }
   },
   "outputs": [
    {
     "ename": "AssertionError",
     "evalue": "known_covariates must be provided at prediction time",
     "output_type": "error",
     "traceback": [
      "\u001b[31m---------------------------------------------------------------------------\u001b[39m",
      "\u001b[31mAssertionError\u001b[39m                            Traceback (most recent call last)",
      "\u001b[36mCell\u001b[39m\u001b[36m \u001b[39m\u001b[32mIn[16]\u001b[39m\u001b[32m, line 1\u001b[39m\n\u001b[32m----> \u001b[39m\u001b[32m1\u001b[39m predictions = \u001b[43mpredictor\u001b[49m\u001b[43m.\u001b[49m\u001b[43mpredict\u001b[49m\u001b[43m(\u001b[49m\u001b[43mtrain_data\u001b[49m\u001b[43m)\u001b[49m\n\u001b[32m      2\u001b[39m predictor.plot(\n\u001b[32m      3\u001b[39m     data=data,\n\u001b[32m      4\u001b[39m     predictions=predictions,\n\u001b[32m      5\u001b[39m     item_ids=data.item_ids,\n\u001b[32m      6\u001b[39m     max_history_length=\u001b[32m200\u001b[39m,\n\u001b[32m      7\u001b[39m );\n",
      "\u001b[36mFile \u001b[39m\u001b[32m~/Documents/order-platform-msa-train-pipeline/.venv/lib/python3.13/site-packages/autogluon/timeseries/predictor.py:862\u001b[39m, in \u001b[36mTimeSeriesPredictor.predict\u001b[39m\u001b[34m(self, data, known_covariates, model, use_cache, random_seed)\u001b[39m\n\u001b[32m    860\u001b[39m \u001b[38;5;28;01mif\u001b[39;00m known_covariates \u001b[38;5;129;01mis\u001b[39;00m \u001b[38;5;129;01mnot\u001b[39;00m \u001b[38;5;28;01mNone\u001b[39;00m:\n\u001b[32m    861\u001b[39m     known_covariates = \u001b[38;5;28mself\u001b[39m._to_data_frame(known_covariates)\n\u001b[32m--> \u001b[39m\u001b[32m862\u001b[39m predictions = \u001b[38;5;28;43mself\u001b[39;49m\u001b[43m.\u001b[49m\u001b[43m_learner\u001b[49m\u001b[43m.\u001b[49m\u001b[43mpredict\u001b[49m\u001b[43m(\u001b[49m\n\u001b[32m    863\u001b[39m \u001b[43m    \u001b[49m\u001b[43mdata\u001b[49m\u001b[43m,\u001b[49m\n\u001b[32m    864\u001b[39m \u001b[43m    \u001b[49m\u001b[43mknown_covariates\u001b[49m\u001b[43m=\u001b[49m\u001b[43mknown_covariates\u001b[49m\u001b[43m,\u001b[49m\n\u001b[32m    865\u001b[39m \u001b[43m    \u001b[49m\u001b[43mmodel\u001b[49m\u001b[43m=\u001b[49m\u001b[43mmodel\u001b[49m\u001b[43m,\u001b[49m\n\u001b[32m    866\u001b[39m \u001b[43m    \u001b[49m\u001b[43muse_cache\u001b[49m\u001b[43m=\u001b[49m\u001b[43muse_cache\u001b[49m\u001b[43m,\u001b[49m\n\u001b[32m    867\u001b[39m \u001b[43m    \u001b[49m\u001b[43mrandom_seed\u001b[49m\u001b[43m=\u001b[49m\u001b[43mrandom_seed\u001b[49m\u001b[43m,\u001b[49m\n\u001b[32m    868\u001b[39m \u001b[43m\u001b[49m\u001b[43m)\u001b[49m\n\u001b[32m    869\u001b[39m \u001b[38;5;28;01mreturn\u001b[39;00m cast(TimeSeriesDataFrame, predictions.reindex(original_item_id_order, level=ITEMID))\n",
      "\u001b[36mFile \u001b[39m\u001b[32m~/Documents/order-platform-msa-train-pipeline/.venv/lib/python3.13/site-packages/autogluon/timeseries/learner.py:172\u001b[39m, in \u001b[36mTimeSeriesLearner.predict\u001b[39m\u001b[34m(self, data, known_covariates, model, use_cache, random_seed, **kwargs)\u001b[39m\n\u001b[32m    162\u001b[39m \u001b[38;5;28;01mdef\u001b[39;00m\u001b[38;5;250m \u001b[39m\u001b[34mpredict\u001b[39m(\n\u001b[32m    163\u001b[39m     \u001b[38;5;28mself\u001b[39m,\n\u001b[32m    164\u001b[39m     data: TimeSeriesDataFrame,\n\u001b[32m   (...)\u001b[39m\u001b[32m    169\u001b[39m     **kwargs,\n\u001b[32m    170\u001b[39m ) -> TimeSeriesDataFrame:\n\u001b[32m    171\u001b[39m     data = \u001b[38;5;28mself\u001b[39m.feature_generator.transform(data)\n\u001b[32m--> \u001b[39m\u001b[32m172\u001b[39m     known_covariates = \u001b[38;5;28;43mself\u001b[39;49m\u001b[43m.\u001b[49m\u001b[43mfeature_generator\u001b[49m\u001b[43m.\u001b[49m\u001b[43mtransform_future_known_covariates\u001b[49m\u001b[43m(\u001b[49m\u001b[43mknown_covariates\u001b[49m\u001b[43m)\u001b[49m\n\u001b[32m    173\u001b[39m     known_covariates = \u001b[38;5;28mself\u001b[39m._align_covariates_with_forecast_index(known_covariates=known_covariates, data=data)\n\u001b[32m    174\u001b[39m     \u001b[38;5;28;01mreturn\u001b[39;00m \u001b[38;5;28mself\u001b[39m.load_trainer().predict(\n\u001b[32m    175\u001b[39m         data=data,\n\u001b[32m    176\u001b[39m         known_covariates=known_covariates,\n\u001b[32m   (...)\u001b[39m\u001b[32m    180\u001b[39m         **kwargs,\n\u001b[32m    181\u001b[39m     )\n",
      "\u001b[36mFile \u001b[39m\u001b[32m~/Documents/order-platform-msa-train-pipeline/.venv/lib/python3.13/site-packages/autogluon/timeseries/utils/features.py:335\u001b[39m, in \u001b[36mTimeSeriesFeatureGenerator.transform_future_known_covariates\u001b[39m\u001b[34m(self, known_covariates)\u001b[39m\n\u001b[32m    333\u001b[39m \u001b[38;5;28;01massert\u001b[39;00m \u001b[38;5;28mself\u001b[39m._is_fit, \u001b[33mf\u001b[39m\u001b[33m\"\u001b[39m\u001b[38;5;132;01m{\u001b[39;00m\u001b[38;5;28mself\u001b[39m.\u001b[34m__class__\u001b[39m.\u001b[34m__name__\u001b[39m\u001b[38;5;132;01m}\u001b[39;00m\u001b[33m has not been fit yet\u001b[39m\u001b[33m\"\u001b[39m\n\u001b[32m    334\u001b[39m \u001b[38;5;28;01mif\u001b[39;00m \u001b[38;5;28mlen\u001b[39m(\u001b[38;5;28mself\u001b[39m.known_covariates_names) > \u001b[32m0\u001b[39m:\n\u001b[32m--> \u001b[39m\u001b[32m335\u001b[39m     \u001b[38;5;28;01massert\u001b[39;00m known_covariates \u001b[38;5;129;01mis\u001b[39;00m \u001b[38;5;129;01mnot\u001b[39;00m \u001b[38;5;28;01mNone\u001b[39;00m, \u001b[33m\"\u001b[39m\u001b[33mknown_covariates must be provided at prediction time\u001b[39m\u001b[33m\"\u001b[39m\n\u001b[32m    336\u001b[39m     \u001b[38;5;28mself\u001b[39m._check_required_columns_are_present(\n\u001b[32m    337\u001b[39m         known_covariates, required_column_names=\u001b[38;5;28mself\u001b[39m.known_covariates_names, data_frame_name=\u001b[33m\"\u001b[39m\u001b[33mknown_covariates\u001b[39m\u001b[33m\"\u001b[39m\n\u001b[32m    338\u001b[39m     )\n\u001b[32m    339\u001b[39m     known_covariates = TimeSeriesDataFrame(\n\u001b[32m    340\u001b[39m         \u001b[38;5;28mself\u001b[39m.known_covariates_pipeline.transform(pd.DataFrame(known_covariates))\n\u001b[32m    341\u001b[39m     )\n",
      "\u001b[31mAssertionError\u001b[39m: known_covariates must be provided at prediction time"
     ]
    }
   ],
   "source": [
    "predictions = predictor.predict(train_data)\n",
    "predictor.plot(\n",
    "    data=data,\n",
    "    predictions=predictions,\n",
    "    item_ids=data.item_ids,\n",
    "    max_history_length=200,\n",
    ");"
   ]
  },
  {
   "cell_type": "markdown",
   "metadata": {
    "id": "5wBuPNb3coGi"
   },
   "source": [
    "Note that the covariates may not always be useful — for some datasets, the zero-shot model may achieve better accuracy. Therefore, it's always important to try out multiple models and select the one that achieves the best accuracy on held-out data. This is done automatically in AutoGluon's `\"high_quality\"` and `\"best_quality\"` presets."
   ]
  }
 ],
 "metadata": {
  "colab": {
   "provenance": []
  },
  "kernelspec": {
   "display_name": "order-platform-msa-train-pipeline (3.13.7)",
   "language": "python",
   "name": "python3"
  },
  "language_info": {
   "codemirror_mode": {
    "name": "ipython",
    "version": 3
   },
   "file_extension": ".py",
   "mimetype": "text/x-python",
   "name": "python",
   "nbconvert_exporter": "python",
   "pygments_lexer": "ipython3",
   "version": "3.13.7"
  }
 },
 "nbformat": 4,
 "nbformat_minor": 0
}
